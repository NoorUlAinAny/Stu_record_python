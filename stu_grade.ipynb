{
 "cells": [
  {
   "cell_type": "code",
   "execution_count": null,
   "id": "3b334487-d782-4b21-aa7b-acb59599be22",
   "metadata": {},
   "outputs": [
    {
     "name": "stdout",
     "output_type": "stream",
     "text": [
      "\n",
      "--- Student Grades Management System ---\n",
      "1. Add Student\n",
      "2. Update Grades\n",
      "3. Delete Student Grade\n",
      "4. View Whole Record\n",
      "5. Exit\n"
     ]
    },
    {
     "name": "stdin",
     "output_type": "stream",
     "text": [
      "Enter your choice =  1\n",
      "Enter student name =  noor\n",
      "Enter the grade =  200\n"
     ]
    },
    {
     "name": "stdout",
     "output_type": "stream",
     "text": [
      "added noor with a 200 in record\n",
      "\n",
      "--- Student Grades Management System ---\n",
      "1. Add Student\n",
      "2. Update Grades\n",
      "3. Delete Student Grade\n",
      "4. View Whole Record\n",
      "5. Exit\n"
     ]
    },
    {
     "name": "stdin",
     "output_type": "stream",
     "text": [
      "Enter your choice =  4\n"
     ]
    },
    {
     "name": "stdout",
     "output_type": "stream",
     "text": [
      "noor : 200\n",
      "\n",
      "--- Student Grades Management System ---\n",
      "1. Add Student\n",
      "2. Update Grades\n",
      "3. Delete Student Grade\n",
      "4. View Whole Record\n",
      "5. Exit\n"
     ]
    }
   ],
   "source": [
    "student = {}\n",
    "\n",
    "def add(name, grade):\n",
    "    student[name] = grade\n",
    "    print(f\"added {name} with a {grade} in record\")\n",
    "\n",
    "def update(name, grade):\n",
    "    if name in student:\n",
    "        student[name] = grade\n",
    "        print(f\"{name}'s marks are updated to {grade}\")\n",
    "    else:\n",
    "        print(f\"{name} is not found\")\n",
    "\n",
    "def delete(name):\n",
    "    if name in student:\n",
    "        del student[name]\n",
    "        print(f\"{name} is deleted\")\n",
    "    else:\n",
    "        print(f\"{name} is not found\")\n",
    "\n",
    "def display():\n",
    "    if student:\n",
    "        for name, grade in student.items():\n",
    "            print(f\"{name} : {grade}\")\n",
    "    else:\n",
    "        print(\"no student grade is found\")\n",
    "\n",
    "def main():\n",
    "    while True:\n",
    "        print(\"\\n--- Student Grades Management System ---\")\n",
    "        print(\"1. Add Student\")\n",
    "        print(\"2. Update Grades\")\n",
    "        print(\"3. Delete Student Grade\")\n",
    "        print(\"4. View Whole Record\")\n",
    "        print(\"5. Exit\")\n",
    "\n",
    "        try:\n",
    "            choice = int(input(\"Enter your choice = \"))\n",
    "        except ValueError:\n",
    "            print(\"⚠️ Please enter a valid number\")\n",
    "            continue\n",
    "\n",
    "        if choice == 1:\n",
    "            name = input(\"Enter student name = \")\n",
    "            grade = int(input(\"Enter the grade = \"))\n",
    "            add(name, grade)\n",
    "\n",
    "        elif choice == 2:\n",
    "            name = input(\"Enter the name of student = \")\n",
    "            grade = int(input(\"Enter the new grade = \"))\n",
    "            update(name, grade)\n",
    "\n",
    "        elif choice == 3:\n",
    "            name = input(\"Enter the name of student = \")\n",
    "            delete(name)\n",
    "\n",
    "        elif choice == 4:\n",
    "            display()\n",
    "\n",
    "        elif choice == 5:\n",
    "            print(\"Program closed ✅\")\n",
    "            break\n",
    "\n",
    "        else:\n",
    "            print(\"⚠️ Invalid choice, please try again.\")\n",
    "\n",
    "# 🔹 Run the program\n",
    "main()\n"
   ]
  },
  {
   "cell_type": "code",
   "execution_count": null,
   "id": "0a9d77be-08a8-40cf-835d-c0a3c515ddc0",
   "metadata": {},
   "outputs": [],
   "source": []
  }
 ],
 "metadata": {
  "kernelspec": {
   "display_name": "Python 3 (ipykernel)",
   "language": "python",
   "name": "python3"
  },
  "language_info": {
   "codemirror_mode": {
    "name": "ipython",
    "version": 3
   },
   "file_extension": ".py",
   "mimetype": "text/x-python",
   "name": "python",
   "nbconvert_exporter": "python",
   "pygments_lexer": "ipython3",
   "version": "3.12.4"
  }
 },
 "nbformat": 4,
 "nbformat_minor": 5
}
